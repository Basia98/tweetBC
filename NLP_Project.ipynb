{
 "cells": [
  {
   "cell_type": "markdown",
   "metadata": {},
   "source": [
    "# NLP Project - Binary Classification"
   ]
  },
  {
   "cell_type": "markdown",
   "metadata": {},
   "source": [
    "Amanda Kane - i6173978\n",
    "Silvia Fallone - i6152013"
   ]
  },
  {
   "cell_type": "code",
   "execution_count": 88,
   "metadata": {},
   "outputs": [],
   "source": [
    "import numpy as np\n",
    "import pandas as pd\n",
    "import seaborn as sns\n",
    "import matplotlib.pyplot as plt\n",
    "import time\n",
    "from sklearn.svm import SVC\n",
    "from sklearn.model_selection import train_test_split    #to split train/validation\n",
    "from sklearn.feature_extraction.text import CountVectorizer\n",
    "from sklearn.naive_bayes import MultinomialNB\n",
    "from sklearn.feature_extraction.text import TfidfVectorizer\n",
    "from sklearn.linear_model import LogisticRegression\n",
    "from sklearn.metrics import confusion_matrix"
   ]
  },
  {
   "cell_type": "markdown",
   "metadata": {},
   "source": [
    "The following cells extract the training data"
   ]
  },
  {
   "cell_type": "code",
   "execution_count": 89,
   "metadata": {},
   "outputs": [],
   "source": [
    "df_all = pd.read_csv('AllData.csv', encoding='latin-1')\n",
    "df_all.columns = ['polarity','ID','date','query','username','tweet']\n",
    "#df_all"
   ]
  },
  {
   "cell_type": "code",
   "execution_count": 90,
   "metadata": {
    "scrolled": true
   },
   "outputs": [],
   "source": [
    "data_index = []\n",
    "#Index of the first 100.000 negative tweets\n",
    "for i in range(10000,20000):\n",
    "    data_index.append(i)\n",
    "#Index of the last 100.000 positive tweets\n",
    "#for i in range(1499999,1599999):\n",
    "for i in range(1579998,1589999):\n",
    "    data_index.append(i)\n",
    "\n",
    "#Put the data in the data frame into a csv file\n",
    "df_train = df_all.loc[data_index,['polarity','tweet']]\n",
    "\n",
    "#Fixing the indexing (reset_index was not working)\n",
    "df_train.to_csv('train_data.csv')\n",
    "df_train = pd.read_csv('train_data.csv', encoding='latin-1')\n",
    "df_train.columns = ['drop','polarity','tweet']\n",
    "df_train = df_train.drop(['drop'], axis = 1)"
   ]
  },
  {
   "cell_type": "markdown",
   "metadata": {},
   "source": [
    "The following cells extract the test data"
   ]
  },
  {
   "cell_type": "code",
   "execution_count": 91,
   "metadata": {},
   "outputs": [],
   "source": [
    "test_data_index = []\n",
    "#Index of the 10000th to 15000th tweet (negative)\n",
    "for i in range(20000,25000):\n",
    "    test_data_index.append(i)\n",
    "#Index of the last 15000th to last and 10000th to last positive tweets\n",
    "for i in range(1500000,1505000):\n",
    "    test_data_index.append(i)\n",
    "\n",
    "#Put the data in the data frame into a csv file\n",
    "df_test = df_all.loc[test_data_index,['polarity','tweet']]\n",
    "\n",
    "#Fixing the indexing (reset_index was not working)\n",
    "df_test.to_csv('test_data.csv')\n",
    "df_test = pd.read_csv('test_data.csv', encoding='latin-1')\n",
    "df_test.columns = ['drop','polarity','tweet']\n",
    "df_test = df_test.drop(['drop'], axis = 1)\n",
    "#df_test = df_test.drop(['polarity'], axis = 1)"
   ]
  },
  {
   "cell_type": "code",
   "execution_count": 92,
   "metadata": {},
   "outputs": [],
   "source": [
    "#represent a confusion matrix\n",
    "def cm_represent(matrix):\n",
    "    df_cm = pd.DataFrame(matrix, index = ['Positive','Negative'],\n",
    "                      columns = ['Positive','Negative'])\n",
    "    plt.figure(figsize = (10,7))\n",
    "    sns.heatmap(df_cm, annot=True, fmt='g')\n",
    "    plt.ylabel('Actual')\n",
    "    plt.xlabel('Predicted')"
   ]
  },
  {
   "cell_type": "code",
   "execution_count": 93,
   "metadata": {},
   "outputs": [],
   "source": [
    "def clean(text, stem_words=True):\n",
    "    import re    # for regular expressions\n",
    "    from string import punctuation \n",
    "    from nltk.stem import SnowballStemmer    \n",
    "    from nltk.corpus import stopwords      #if you want to remove stopwords\n",
    "    from nltk.tokenize import word_tokenize \n",
    "    #import nltk\n",
    "    # Empty question\n",
    "    #nltk.download()\n",
    "    if type(text) != str or text=='':\n",
    "        return ''\n",
    "    \n",
    "    # Clean the text (here i have 2-3 cases of pre-processing by sampling the data. You might need more)\n",
    "    text = text.lower() #change to lower case\n",
    "    text = re.sub(\"@\\w+ \",\"\", text) #removes all usernames in text\n",
    "    text = re.sub(\"\\'s\", \" \", text) # we have cases like \"Sam is\" or \"Sam's\" (i.e. his) these two cases aren't separable, I choose to compromise are kill \"'s\" directly\n",
    "    text = re.sub(\" whats \", \" what is \", text, flags=re.IGNORECASE)\n",
    "    text = re.sub(\"\\'ve\", \" have \", text)\n",
    "    text = re.sub('[^a-zA-Z]', ' ', text)  #remove numbers\n",
    "    text = re.sub(r'\\s+', ' ', text)      \n",
    "    text = re.sub(r'[^\\w\\s]','',text)     #remove commas\n",
    "    text = re.sub('(?<=[0-9])\\,(?=[0-9])', \"\", text) # remove comma between numbers, i.e. 15,000 -> 15000\n",
    "    text = re.sub(\"[!~#$+%*:()'?-]\", ' ', text)   # remove characters stated below\n",
    "       \n",
    "\n",
    "    #remove stopwords UNCOMMENT TO SEE IT'S IMPACT ON BAG OF WORDS\n",
    "    #stop = re.compile(r'\\b('+ r'|'.join(stopwords.words('english'))+r')\\b\\s*')\n",
    "    #text = stop.sub('', text)\n",
    "    \n",
    "    # remove comma between numbers, i.e. 15,000 -> 15000\n",
    "    text = re.sub('(?<=[0-9])\\,(?=[0-9])', \"\", text)\n",
    "    text = re.sub(\"[!~#$+%*:()'?-]\", ' ', text) \n",
    "       \n",
    "    ##Return a list of words\n",
    "    return text"
   ]
  },
  {
   "cell_type": "markdown",
   "metadata": {},
   "source": [
    "The two following cells will show an example of the code before and after the cleaning. The first cell should always be executed as it performs the data cleaning on the dataset."
   ]
  },
  {
   "cell_type": "code",
   "execution_count": 94,
   "metadata": {},
   "outputs": [],
   "source": [
    "#training data cleaning\n",
    "#print(df_train[401:411])\n",
    "df_train['tweet'] = df_train['tweet'].apply(clean)\n",
    "\n",
    "#This should give you the labels (y) for the training set\n",
    "labels = df_train['polarity'].values\n",
    "y = labels\n",
    "\n",
    "#List of training tweets\n",
    "tweets = df_train['tweet'].values"
   ]
  },
  {
   "cell_type": "code",
   "execution_count": 95,
   "metadata": {},
   "outputs": [],
   "source": [
    "#doesn't necessarily have to be executed\n",
    "#a = 401 \n",
    "#for i in range(a,a+10):\n",
    "    #print(df_train.tweet[i])\n",
    "    #print()"
   ]
  },
  {
   "cell_type": "code",
   "execution_count": 96,
   "metadata": {},
   "outputs": [],
   "source": [
    "#test data cleaning\n",
    "df_test['tweet'] = df_test['tweet'].apply(clean)\n",
    "\n",
    "#This should give you the labels (y) for the test set\n",
    "test_labels = df_test['polarity'].values\n",
    "test_y = test_labels\n",
    "\n",
    "#List of test tweets\n",
    "test_tweets = df_test['tweet'].values"
   ]
  },
  {
   "cell_type": "code",
   "execution_count": 97,
   "metadata": {},
   "outputs": [],
   "source": [
    "##### Simple CountVectorizer #####\n",
    "\n",
    "#create the transform\n",
    "vectorizer = CountVectorizer()\n",
    "\n",
    "#build vocab\n",
    "vec = vectorizer.fit(tweets) #we want to know all the words in both\n",
    "\n",
    "#encode tweets\n",
    "vec = vectorizer.transform(tweets)\n",
    "#print(vec)"
   ]
  },
  {
   "cell_type": "code",
   "execution_count": 98,
   "metadata": {},
   "outputs": [],
   "source": [
    "#encode test tweets\n",
    "vecTestTweets = vectorizer.transform(test_tweets)\n",
    "#print(vecTestTweets)"
   ]
  },
  {
   "cell_type": "code",
   "execution_count": 99,
   "metadata": {},
   "outputs": [
    {
     "name": "stdout",
     "output_type": "stream",
     "text": [
      "Time: 0.015199899673461914 seconds\n"
     ]
    }
   ],
   "source": [
    "##### Näive-Bayes #####\n",
    "\n",
    "#start timing\n",
    "start = time.time()\n",
    "\n",
    "#Näive-Bayes Classifier\n",
    "classifier = MultinomialNB()\n",
    "classifier.fit(vec,y)\n",
    "\n",
    "#stop timing\n",
    "end = time.time()\n",
    "print(\"Time: \" + str(end - start) + \" seconds\")"
   ]
  },
  {
   "cell_type": "code",
   "execution_count": 100,
   "metadata": {},
   "outputs": [
    {
     "name": "stdout",
     "output_type": "stream",
     "text": [
      "Näive Bayes score: 71.48%\n",
      "Time: 0.005601644515991211 seconds\n"
     ]
    }
   ],
   "source": [
    "##### Näive-Bayes Prediction #####\n",
    "\n",
    "#start timing\n",
    "start = time.time()\n",
    "\n",
    "#retrieving prediction accuracy score of Näive-Bayes classifier\n",
    "prediction = classifier.predict(vecTestTweets)\n",
    "score = (classifier.score(vecTestTweets,test_y))*100\n",
    "print('Näive Bayes score: '+ str(score) + '%')\n",
    "\n",
    "#stop timing\n",
    "end = time.time()\n",
    "print(\"Time: \" + str(end - start) + \" seconds\")"
   ]
  },
  {
   "cell_type": "code",
   "execution_count": 101,
   "metadata": {},
   "outputs": [
    {
     "data": {
      "image/png": "[encoded data removed]",
      "text/plain": [
       "<Figure size 720x504 with 2 Axes>"
      ]
     },
     "metadata": {
      "needs_background": "light"
     },
     "output_type": "display_data"
    }
   ],
   "source": [
    "cmatrix = confusion_matrix(test_y,prediction)\n",
    "cm_represent(cmatrix)"
   ]
  },
  {
   "cell_type": "code",
   "execution_count": 102,
   "metadata": {},
   "outputs": [
    {
     "name": "stdout",
     "output_type": "stream",
     "text": [
      "Time: 205.3888304233551 seconds\n"
     ]
    }
   ],
   "source": [
    "##### SVM #####\n",
    "\n",
    "#start timing\n",
    "start = time.time()\n",
    "\n",
    "#SVM classifier\n",
    "SVM_classifier = SVC(gamma='scale')\n",
    "SVM_classifier.fit(vec,y)\n",
    "\n",
    "#stop timing\n",
    "end = time.time()\n",
    "print(\"Time: \" + str(end - start) + \" seconds\")"
   ]
  },
  {
   "cell_type": "code",
   "execution_count": 103,
   "metadata": {},
   "outputs": [
    {
     "name": "stdout",
     "output_type": "stream",
     "text": [
      "Time: 73.3408534526825 seconds\n",
      "SVM score: 74.91%\n"
     ]
    }
   ],
   "source": [
    "##### SVM Prediction #####\n",
    "\n",
    "#start timing\n",
    "start = time.time()\n",
    "\n",
    "#creating prediction vector/list\n",
    "prediction = SVM_classifier.predict(vecTestTweets)\n",
    "score = (SVM_classifier.score(vecTestTweets,test_y))*100\n",
    "\n",
    "#stop timing\n",
    "end = time.time()\n",
    "print(\"Time: \" + str(end - start) + \" seconds\")\n",
    "\n",
    "print(\"SVM score: \" + str(score) + \"%\")"
   ]
  },
  {
   "cell_type": "code",
   "execution_count": 104,
   "metadata": {},
   "outputs": [
    {
     "data": {
      "image/png": "[encoded data removed]",
      "text/plain": [
       "<Figure size 720x504 with 2 Axes>"
      ]
     },
     "metadata": {
      "needs_background": "light"
     },
     "output_type": "display_data"
    }
   ],
   "source": [
    "cmatrix = confusion_matrix(test_y,prediction)\n",
    "cm_represent(cmatrix)"
   ]
  },
  {
   "cell_type": "code",
   "execution_count": 105,
   "metadata": {},
   "outputs": [
    {
     "name": "stdout",
     "output_type": "stream",
     "text": [
      "LogReg score: 72.71%\n"
     ]
    }
   ],
   "source": [
    "##### Logistic Regression #####\n",
    "\n",
    "clf = LogisticRegression(random_state=0, solver='lbfgs', multi_class='multinomial').fit(Tvec, y)\n",
    "prediction = clf.predict(vecTestTweets)\n",
    "score = (clf.score(vecTestTweets, test_y))*100\n",
    "\n",
    "print(\"LogReg score: \" + str(score) + \"%\")"
   ]
  },
  {
   "cell_type": "code",
   "execution_count": 106,
   "metadata": {
    "scrolled": true
   },
   "outputs": [
    {
     "data": {
      "image/png": "[encoded data removed]",
      "text/plain": [
       "<Figure size 720x504 with 2 Axes>"
      ]
     },
     "metadata": {
      "needs_background": "light"
     },
     "output_type": "display_data"
    }
   ],
   "source": [
    "cmatrix = confusion_matrix(test_y,prediction)\n",
    "cm_represent(cmatrix)"
   ]
  },
  {
   "cell_type": "code",
   "execution_count": 107,
   "metadata": {},
   "outputs": [],
   "source": [
    "##### TFIDF vectorizer####\n",
    "\n",
    "#create the transform\n",
    "T_vectorizer = TfidfVectorizer()\n",
    "\n",
    "#build vocab\n",
    "Tvec = T_vectorizer.fit(tweets) #we want to know all the words in both\n",
    "\n",
    "#encode document\n",
    "Tvec = T_vectorizer.transform(tweets)\n",
    "#print(vec)"
   ]
  },
  {
   "cell_type": "code",
   "execution_count": 108,
   "metadata": {},
   "outputs": [
    {
     "name": "stdout",
     "output_type": "stream",
     "text": [
      "Time: 0.007723331451416016 seconds\n"
     ]
    }
   ],
   "source": [
    "##### Näive-Bayes #####\n",
    "\n",
    "#start timing\n",
    "start = time.time()\n",
    "\n",
    "#Näive-Bayes classifier\n",
    "T_classifier = MultinomialNB()\n",
    "T_classifier.fit(Tvec,y)\n",
    "\n",
    "#stop timing\n",
    "end = time.time()\n",
    "print(\"Time: \" + str(end - start) + \" seconds\")"
   ]
  },
  {
   "cell_type": "code",
   "execution_count": 109,
   "metadata": {},
   "outputs": [],
   "source": [
    "#encode test tweets\n",
    "T_vecTestTweets = T_vectorizer.transform(test_tweets)\n",
    "#print(vecTestTweets)"
   ]
  },
  {
   "cell_type": "code",
   "execution_count": 110,
   "metadata": {},
   "outputs": [
    {
     "name": "stdout",
     "output_type": "stream",
     "text": [
      "Time: 0.013580322265625 seconds\n",
      "TFIDF Näive_Bayes score: 71.32%\n"
     ]
    }
   ],
   "source": [
    "##### Näive-Bayes Prediction #####\n",
    "\n",
    "#start timing\n",
    "start = time.time()\n",
    "\n",
    "#creating prediction vector/list with Näive_Bayes classifier\n",
    "prediction = T_classifier.predict(T_vecTestTweets)\n",
    "score = (T_classifier.score(T_vecTestTweets,test_y))*100\n",
    "\n",
    "#stop timing\n",
    "end = time.time()\n",
    "print(\"Time: \" + str(end - start) + \" seconds\")\n",
    "\n",
    "print(\"TFIDF Näive_Bayes score: \" + str(score) + \"%\")"
   ]
  },
  {
   "cell_type": "code",
   "execution_count": 111,
   "metadata": {
    "scrolled": true
   },
   "outputs": [
    {
     "data": {
      "image/png": "[encoded data removed]",
      "text/plain": [
       "<Figure size 720x504 with 2 Axes>"
      ]
     },
     "metadata": {
      "needs_background": "light"
     },
     "output_type": "display_data"
    }
   ],
   "source": [
    "cmatrix = confusion_matrix(test_y,prediction)\n",
    "cm_represent(cmatrix)"
   ]
  },
  {
   "cell_type": "code",
   "execution_count": 112,
   "metadata": {},
   "outputs": [
    {
     "name": "stdout",
     "output_type": "stream",
     "text": [
      "Time: 204.09693312644958 seconds\n"
     ]
    }
   ],
   "source": [
    "##### SVM #####\n",
    "\n",
    "#start timing\n",
    "start = time.time()\n",
    "\n",
    "#SVM classifier\n",
    "SVM_classifier = SVC(gamma='scale')\n",
    "SVM_classifier.fit(Tvec,y)\n",
    "\n",
    "#stop timing\n",
    "end = time.time()\n",
    "print(\"Time: \" + str(end - start) + \" seconds\")"
   ]
  },
  {
   "cell_type": "code",
   "execution_count": 119,
   "metadata": {},
   "outputs": [
    {
     "name": "stdout",
     "output_type": "stream",
     "text": [
      "Time: 71.67055678367615 seconds\n",
      "TFIDF SVM score: 74.49%\n"
     ]
    }
   ],
   "source": [
    "##### SVM Prediction #####\n",
    "\n",
    "#start timing\n",
    "start = time.time()\n",
    "\n",
    "#creating prediction vector/list\n",
    "prediction = SVM_classifier.predict(T_vecTestTweets)\n",
    "score = (SVM_classifier.score(T_vecTestTweets,test_y))*100\n",
    "\n",
    "#stop timing\n",
    "end = time.time()\n",
    "print(\"Time: \" + str(end - start) + \" seconds\")\n",
    "\n",
    "print(\"TFIDF SVM score: \" + str(score) + \"%\")"
   ]
  },
  {
   "cell_type": "code",
   "execution_count": 120,
   "metadata": {
    "scrolled": true
   },
   "outputs": [
    {
     "data": {
      "image/png": "[encoded data removed]",
      "text/plain": [
       "<Figure size 720x504 with 2 Axes>"
      ]
     },
     "metadata": {
      "needs_background": "light"
     },
     "output_type": "display_data"
    }
   ],
   "source": [
    "cmatrix = confusion_matrix(test_y,prediction)\n",
    "cm_represent(cmatrix)"
   ]
  },
  {
   "cell_type": "code",
   "execution_count": 115,
   "metadata": {},
   "outputs": [
    {
     "name": "stdout",
     "output_type": "stream",
     "text": [
      "TFIDF LogReg score: 74.03%\n"
     ]
    }
   ],
   "source": [
    "##### Logistic Regression #####\n",
    "\n",
    "clf = LogisticRegression(random_state=0, solver='lbfgs', multi_class='multinomial').fit(Tvec, y)\n",
    "prediction = clf.predict(T_vecTestTweets)\n",
    "score = (clf.score(T_vecTestTweets, test_y))*100\n",
    "\n",
    "print(\"TFIDF LogReg score: \" + str(score) + \"%\")"
   ]
  },
  {
   "cell_type": "code",
   "execution_count": 116,
   "metadata": {
    "scrolled": true
   },
   "outputs": [
    {
     "data": {
      "image/png": "[encoded data removed]",
      "text/plain": [
       "<Figure size 720x504 with 2 Axes>"
      ]
     },
     "metadata": {
      "needs_background": "light"
     },
     "output_type": "display_data"
    }
   ],
   "source": [
    "cmatrix = confusion_matrix(test_y,prediction)\n",
    "cm_represent(cmatrix)"
   ]
  }
 ],
 "metadata": {
  "kernelspec": {
   "display_name": "Python 3",
   "language": "python",
   "name": "python3"
  },
  "language_info": {
   "codemirror_mode": {
    "name": "ipython",
    "version": 3
   },
   "file_extension": ".py",
   "mimetype": "text/x-python",
   "name": "python",
   "nbconvert_exporter": "python",
   "pygments_lexer": "ipython3",
   "version": "3.7.3"
  }
 },
 "nbformat": 4,
 "nbformat_minor": 2
}
